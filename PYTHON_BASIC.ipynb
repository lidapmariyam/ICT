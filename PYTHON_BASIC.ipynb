{
  "nbformat": 4,
  "nbformat_minor": 0,
  "metadata": {
    "colab": {
      "provenance": [],
      "authorship_tag": "ABX9TyM3658JIKI3aodeyMlTvGYq",
      "include_colab_link": true
    },
    "kernelspec": {
      "name": "python3",
      "display_name": "Python 3"
    },
    "language_info": {
      "name": "python"
    }
  },
  "cells": [
    {
      "cell_type": "markdown",
      "metadata": {
        "id": "view-in-github",
        "colab_type": "text"
      },
      "source": [
        "<a href=\"https://colab.research.google.com/github/lidapmariyam/ICT/blob/main/PYTHON_BASIC.ipynb\" target=\"_parent\"><img src=\"https://colab.research.google.com/assets/colab-badge.svg\" alt=\"Open In Colab\"/></a>"
      ]
    },
    {
      "cell_type": "markdown",
      "source": [
        "1.Write a Python program which accepts the radius of a circle from the user\n",
        "and compute the area"
      ],
      "metadata": {
        "id": "93kYkUdv4D92"
      }
    },
    {
      "cell_type": "code",
      "source": [
        "import math\n",
        "def calculate_area_of_circle(radius):\n",
        "    return math.pi * radius ** 2\n",
        "radius = float(input(\"Enter the radius: \"))\n",
        "area = calculate_area_of_circle(radius)\n",
        "print(f\"The area of the circle with radius {radius} is: {area:.2f}\")"
      ],
      "metadata": {
        "colab": {
          "base_uri": "https://localhost:8080/"
        },
        "id": "LM5jqXME4EL1",
        "outputId": "5aa91ec2-f1bf-422c-dc9f-d07aac846ecc"
      },
      "execution_count": null,
      "outputs": [
        {
          "output_type": "stream",
          "name": "stdout",
          "text": [
            "Enter the radius: 5\n",
            "The area of the circle with radius 5.0 is: 78.54\n"
          ]
        }
      ]
    },
    {
      "cell_type": "markdown",
      "source": [
        "2.Write a Python Program to accept the details of a student like name, roll\n",
        "number and mark and display it."
      ],
      "metadata": {
        "id": "JvC2AhFh4O6O"
      }
    },
    {
      "cell_type": "code",
      "source": [
        "def display_student_details(name, roll_number, mark):\n",
        "    print(f\"Name: {name}\")\n",
        "    print(f\"Roll No: {roll_number}\")\n",
        "    print(f\"Mark: {mark}\")\n",
        "name = input(\"Enter the name: \")\n",
        "roll_number = input(\"Enter the roll number: \")\n",
        "mark = input(\"Enter the mark: \")\n",
        "display_student_details(name, roll_number, mark)\n"
      ],
      "metadata": {
        "colab": {
          "base_uri": "https://localhost:8080/"
        },
        "id": "m_2DKVVC4PTV",
        "outputId": "7765d322-0687-4caf-9258-9064e7bbe03b"
      },
      "execution_count": null,
      "outputs": [
        {
          "output_type": "stream",
          "name": "stdout",
          "text": [
            "Enter the name: lida\n",
            "Enter the roll number: 37\n",
            "Enter the mark: 81\n",
            "Name: lida\n",
            "Roll No: 37\n",
            "Mark: 81\n"
          ]
        }
      ]
    },
    {
      "cell_type": "markdown",
      "source": [
        "3.Write a Python program to get the largest number from a list."
      ],
      "metadata": {
        "id": "Z9IeyFPA4cgQ"
      }
    },
    {
      "cell_type": "code",
      "source": [
        "\n",
        "def find_largest_number(numbers):\n",
        "    return max(numbers)\n",
        "numbers = [12, 23, 47, 10]\n",
        "largest_number = find_largest_number(numbers)\n",
        "print(f\"{largest_number} is the largest number.\")"
      ],
      "metadata": {
        "id": "9odO5qJJ4crW",
        "colab": {
          "base_uri": "https://localhost:8080/"
        },
        "outputId": "990cd704-e63d-4384-cd82-87d2b00b53c3"
      },
      "execution_count": null,
      "outputs": [
        {
          "output_type": "stream",
          "name": "stdout",
          "text": [
            "47 is the largest number.\n"
          ]
        }
      ]
    },
    {
      "cell_type": "markdown",
      "source": [
        "4. Given a range of first 10 numbers, write a Python program to iterate from\n",
        "start number to the end number and print the sum of the current number\n",
        "and previous number."
      ],
      "metadata": {
        "id": "0-YCTk93Iryc"
      }
    },
    {
      "cell_type": "code",
      "source": [
        "def print_sum_of_current_and_previous(start, end):\n",
        "    previous_number = 0\n",
        "    for current_number in range(start, end + 1):\n",
        "        sum_of_numbers = current_number + previous_number\n",
        "        print(f\"Current Number {current_number} Previous Number {previous_number} Sum: {sum_of_numbers}\")\n",
        "        previous_number = current_number\n",
        "start_number = 1\n",
        "end_number = 10\n",
        "print_sum_of_current_and_previous(start_number, end_number)"
      ],
      "metadata": {
        "colab": {
          "base_uri": "https://localhost:8080/"
        },
        "id": "C8as-bZoIsJa",
        "outputId": "b6ab53cf-154f-444e-ddf3-cb36e547606b"
      },
      "execution_count": null,
      "outputs": [
        {
          "output_type": "stream",
          "name": "stdout",
          "text": [
            "Current Number 1 Previous Number 0 Sum: 1\n",
            "Current Number 2 Previous Number 1 Sum: 3\n",
            "Current Number 3 Previous Number 2 Sum: 5\n",
            "Current Number 4 Previous Number 3 Sum: 7\n",
            "Current Number 5 Previous Number 4 Sum: 9\n",
            "Current Number 6 Previous Number 5 Sum: 11\n",
            "Current Number 7 Previous Number 6 Sum: 13\n",
            "Current Number 8 Previous Number 7 Sum: 15\n",
            "Current Number 9 Previous Number 8 Sum: 17\n",
            "Current Number 10 Previous Number 9 Sum: 19\n"
          ]
        }
      ]
    },
    {
      "cell_type": "markdown",
      "source": [
        "5.Write a Python program to print only those numbers which are divisible\n",
        "of 5."
      ],
      "metadata": {
        "id": "CEkCTNoNI7Jc"
      }
    },
    {
      "cell_type": "code",
      "source": [
        "def print_divisible_by_5(numbers):\n",
        "    divisible_by_5 = []\n",
        "    for number in numbers:\n",
        "        if number % 5 == 0:\n",
        "            divisible_by_5.append(number)\n",
        "    print(\"Numbers divisible by 5:\", \", \".join(map(str, divisible_by_5)))\n",
        "numbers = [10, 20, 33, 46, 55]\n",
        "print_divisible_by_5(numbers)"
      ],
      "metadata": {
        "colab": {
          "base_uri": "https://localhost:8080/"
        },
        "id": "9EELyXJnI8AM",
        "outputId": "1e1fff1c-532d-48e7-fa97-9e4105cc5c4b"
      },
      "execution_count": null,
      "outputs": [
        {
          "output_type": "stream",
          "name": "stdout",
          "text": [
            "Numbers divisible by 5: 10, 20, 55\n"
          ]
        }
      ]
    },
    {
      "cell_type": "markdown",
      "source": [
        "6.Write a Python program to check whether a number is prime or not."
      ],
      "metadata": {
        "id": "NixvIP18JD1E"
      }
    },
    {
      "cell_type": "code",
      "source": [
        "def is_prime(number):\n",
        "    if number <= 1:\n",
        "        return False\n",
        "    for i in range(2, int(number**0.5) + 1):\n",
        "        if number % i == 0:\n",
        "            return False\n",
        "    return True\n",
        "number = int(input(\"Enter the number \"))\n",
        "if is_prime(number):\n",
        "    print(f\"{number} is a prime number\")\n",
        "else:\n",
        "    print(f\"{number} is not a prime number\")"
      ],
      "metadata": {
        "colab": {
          "base_uri": "https://localhost:8080/"
        },
        "id": "4y-LIGBYJEEe",
        "outputId": "ffd66ede-dc0b-4b1f-9bb9-98485079a545"
      },
      "execution_count": null,
      "outputs": [
        {
          "output_type": "stream",
          "name": "stdout",
          "text": [
            "Enter the number 3\n",
            "3 is a prime number\n"
          ]
        }
      ]
    },
    {
      "cell_type": "markdown",
      "source": [
        "7.Write a Python program to reverse a list using for loop."
      ],
      "metadata": {
        "id": "trula5wKJU8O"
      }
    },
    {
      "cell_type": "code",
      "source": [
        "def reverse_list(original_list):\n",
        "    reversed_list = []\n",
        "    for item in original_list:\n",
        "\n",
        "        reversed_list.insert(0, item)\n",
        "    return reversed_list\n",
        "input_list = [60, 40, 38, 53]\n",
        "output_list = reverse_list(input_list)\n",
        "print(\", \".join(map(str, output_list)))"
      ],
      "metadata": {
        "colab": {
          "base_uri": "https://localhost:8080/"
        },
        "id": "4qgau_1xJVOb",
        "outputId": "7d6d5fb9-c891-4633-c80c-14af863fc29a"
      },
      "execution_count": null,
      "outputs": [
        {
          "output_type": "stream",
          "name": "stdout",
          "text": [
            "53, 38, 40, 60\n"
          ]
        }
      ]
    },
    {
      "cell_type": "markdown",
      "source": [
        "8.Write a Python program to print the following pattern.\n",
        "*\n",
        "**\n",
        "***\n",
        "****"
      ],
      "metadata": {
        "id": "6xgBDfVqJflm"
      }
    },
    {
      "cell_type": "code",
      "source": [
        "def print_pattern():\n",
        "\n",
        "    for i in range(1, 4):\n",
        "        print('*' * i)\n",
        "    for i in range(2, 0, -1):\n",
        "        print('*' * i)\n",
        "    print('*' * 4)\n",
        "print_pattern()"
      ],
      "metadata": {
        "colab": {
          "base_uri": "https://localhost:8080/"
        },
        "id": "Q5PvmjiCJf1A",
        "outputId": "cf347202-bb53-4d2f-a8f0-9158ca5ff656"
      },
      "execution_count": null,
      "outputs": [
        {
          "output_type": "stream",
          "name": "stdout",
          "text": [
            "*\n",
            "**\n",
            "***\n",
            "**\n",
            "*\n",
            "****\n"
          ]
        }
      ]
    },
    {
      "cell_type": "markdown",
      "source": [
        "9.Write a Python program to find the maximum of three numbers"
      ],
      "metadata": {
        "id": "VAgdOkU9JrqX"
      }
    },
    {
      "cell_type": "code",
      "source": [
        "def find_max_of_three(num1, num2, num3):\n",
        "\n",
        "    return max(num1, num2, num3)\n",
        "num1 = int(input(\"Enter the first number: \"))\n",
        "num2 = int(input(\"Enter the second number: \"))\n",
        "num3 = int(input(\"Enter the third number: \"))\n",
        "max_number = find_max_of_three(num1, num2, num3)\n",
        "print(f\"The maximum of {num1}, {num2}, and {num3} is: {max_number}\")"
      ],
      "metadata": {
        "colab": {
          "base_uri": "https://localhost:8080/"
        },
        "id": "yQhnIzwTLPVt",
        "outputId": "2d1b4d5a-b085-4e89-c862-cbe65a33d094"
      },
      "execution_count": null,
      "outputs": [
        {
          "output_type": "stream",
          "name": "stdout",
          "text": [
            "Enter the first number: 36\n",
            "Enter the second number: 14\n",
            "Enter the third number: 50\n",
            "The maximum of 36, 14, and 50 is: 50\n"
          ]
        }
      ]
    },
    {
      "cell_type": "markdown",
      "source": [
        "\n",
        "10.Write a Python program to construct the following pattern, using a\n",
        "nested for loop.\n",
        "*\n",
        "**\n",
        "***\n",
        "****\n",
        "*****\n",
        "****\n",
        "***\n",
        "**\n",
        "*"
      ],
      "metadata": {
        "id": "Ho0VZipTJ1_e"
      }
    },
    {
      "cell_type": "code",
      "source": [
        "def print_pattern():\n",
        "    for i in range(1, 6):\n",
        "        print('*' * i)\n",
        "    for i in range(4, 0, -1):\n",
        "        print('*' * i)\n",
        "print_pattern()"
      ],
      "metadata": {
        "colab": {
          "base_uri": "https://localhost:8080/"
        },
        "id": "tdC3VkJzJ9ZA",
        "outputId": "c6ad5b2f-2f7f-4541-8dc6-18f14fba3061"
      },
      "execution_count": null,
      "outputs": [
        {
          "output_type": "stream",
          "name": "stdout",
          "text": [
            "*\n",
            "**\n",
            "***\n",
            "****\n",
            "*****\n",
            "****\n",
            "***\n",
            "**\n",
            "*\n"
          ]
        }
      ]
    }
  ]
}