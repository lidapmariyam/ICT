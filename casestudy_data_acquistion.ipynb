{
  "nbformat": 4,
  "nbformat_minor": 0,
  "metadata": {
    "colab": {
      "provenance": [],
      "authorship_tag": "ABX9TyMv2NDKpb1TokPryUrkXJmi",
      "include_colab_link": true
    },
    "kernelspec": {
      "name": "python3",
      "display_name": "Python 3"
    },
    "language_info": {
      "name": "python"
    }
  },
  "cells": [
    {
      "cell_type": "markdown",
      "metadata": {
        "id": "view-in-github",
        "colab_type": "text"
      },
      "source": [
        "<a href=\"https://colab.research.google.com/github/lidapmariyam/ICT/blob/main/casestudy_data_acquistion.ipynb\" target=\"_parent\"><img src=\"https://colab.research.google.com/assets/colab-badge.svg\" alt=\"Open In Colab\"/></a>"
      ]
    },
    {
      "cell_type": "code",
      "source": [
        "import pandas as pd\n",
        "df = pd.read_csv('/content/ICT_Subdimension_Dataset.csv')\n",
        "print(df.head())"
      ],
      "metadata": {
        "colab": {
          "base_uri": "https://localhost:8080/"
        },
        "id": "Ab-htuAOkUwz",
        "outputId": "fae53a26-2917-463c-b159-7f194f3eaba8"
      },
      "execution_count": null,
      "outputs": [
        {
          "output_type": "stream",
          "name": "stdout",
          "text": [
            "     City  Year  Household Internet Access (%)  \\\n",
            "0  Mumbai  2019                          79.45   \n",
            "1  Mumbai  2020                          79.45   \n",
            "2  Mumbai  2021                          80.43   \n",
            "3  Mumbai  2022                          86.32   \n",
            "4  Mumbai  2023                          86.32   \n",
            "\n",
            "   Fixed Broadband Subscriptions (%)  Wireless Broadband Subscriptions (%)  \\\n",
            "0                              48.00                                 50.35   \n",
            "1                              54.26                                 53.38   \n",
            "2                              54.26                                 60.42   \n",
            "3                              54.26                                 66.47   \n",
            "4                              54.26                                 66.47   \n",
            "\n",
            "   Wireless Broadband Coverage 3G (%)  Wireless Broadband Coverage 4G (%)  \\\n",
            "0                               91.57                               59.19   \n",
            "1                               92.58                               64.12   \n",
            "2                               93.60                               69.06   \n",
            "3                               94.62                               73.99   \n",
            "4                               95.64                               78.92   \n",
            "\n",
            "   Smart Water Meters (%)  Smart Electricity Meters (%)  \\\n",
            "0                   33.30                          43.4   \n",
            "1                   34.34                          43.4   \n",
            "2                   34.34                          43.4   \n",
            "3                   34.34                          43.4   \n",
            "4                   35.38                          43.4   \n",
            "\n",
            "   Dynamic Public Transport Information (%)  Traffic Monitoring (%)  \\\n",
            "0                                     10.04                   15.30   \n",
            "1                                     14.06                   20.40   \n",
            "2                                     18.08                   25.49   \n",
            "3                                     22.09                   30.59   \n",
            "4                                     26.11                   35.69   \n",
            "\n",
            "   Availability of WIFI in Public Areas (count)  \\\n",
            "0                                           137   \n",
            "1                                           172   \n",
            "2                                           167   \n",
            "3                                           142   \n",
            "4                                           143   \n",
            "\n",
            "   Water Supply ICT Monitoring (%)  \\\n",
            "0                            31.31   \n",
            "1                            36.53   \n",
            "2                            41.74   \n",
            "3                            46.96   \n",
            "4                            52.18   \n",
            "\n",
            "   Drainage / Storm Water System ICT Monitoring (%)  \\\n",
            "0                                             20.72   \n",
            "1                                             24.86   \n",
            "2                                             29.00   \n",
            "3                                             33.15   \n",
            "4                                             37.29   \n",
            "\n",
            "   Electricity Supply ICT Monitoring (%)  Demand Response Penetration (%)  \\\n",
            "0                                  33.88                            10.05   \n",
            "1                                  38.72                            13.06   \n",
            "2                                  43.56                            16.08   \n",
            "3                                  48.40                            19.09   \n",
            "4                                  53.24                            22.11   \n",
            "\n",
            "   Intersection Control (%)  Open data (%)  e-Government (%)  \\\n",
            "0                     15.48           4.85             19.07   \n",
            "1                     18.57           6.79             22.88   \n",
            "2                     21.67           8.73             26.70   \n",
            "3                     24.76          10.67             30.51   \n",
            "4                     27.86          12.61             34.32   \n",
            "\n",
            "   Public Sector e-procurement (%)  \n",
            "0                            24.20  \n",
            "1                            29.04  \n",
            "2                            33.88  \n",
            "3                            38.73  \n",
            "4                            43.57  \n"
          ]
        }
      ]
    },
    {
      "cell_type": "code",
      "source": [
        "print(df.describe())"
      ],
      "metadata": {
        "colab": {
          "base_uri": "https://localhost:8080/"
        },
        "id": "rxy89L9ImyzC",
        "outputId": "079252ea-1017-4c8d-a216-554bd3655cb0"
      },
      "execution_count": null,
      "outputs": [
        {
          "output_type": "stream",
          "name": "stdout",
          "text": [
            "              Year  Household Internet Access (%)  \\\n",
            "count   180.000000                     180.000000   \n",
            "mean   2021.500000                      72.998167   \n",
            "std       1.712589                       8.984674   \n",
            "min    2019.000000                      53.650000   \n",
            "25%    2020.000000                      65.170000   \n",
            "50%    2021.500000                      72.985000   \n",
            "75%    2023.000000                      79.475000   \n",
            "max    2024.000000                      92.630000   \n",
            "\n",
            "       Fixed Broadband Subscriptions (%)  \\\n",
            "count                         180.000000   \n",
            "mean                           45.900444   \n",
            "std                             8.389596   \n",
            "min                            23.970000   \n",
            "25%                            39.640000   \n",
            "50%                            46.685000   \n",
            "75%                            52.575000   \n",
            "max                            60.720000   \n",
            "\n",
            "       Wireless Broadband Subscriptions (%)  \\\n",
            "count                            180.000000   \n",
            "mean                              56.287444   \n",
            "std                                8.716689   \n",
            "min                               33.000000   \n",
            "25%                               48.460000   \n",
            "50%                               56.000000   \n",
            "75%                               64.410000   \n",
            "max                               72.880000   \n",
            "\n",
            "       Wireless Broadband Coverage 3G (%)  Wireless Broadband Coverage 4G (%)  \\\n",
            "count                          180.000000                          180.000000   \n",
            "mean                            93.239944                           72.326944   \n",
            "std                              3.124068                            8.791971   \n",
            "min                             85.570000                           57.110000   \n",
            "25%                             90.985000                           64.910000   \n",
            "50%                             93.475000                           72.255000   \n",
            "75%                             95.512500                           79.560000   \n",
            "max                             99.560000                           88.280000   \n",
            "\n",
            "       Smart Water Meters (%)  Smart Electricity Meters (%)  \\\n",
            "count              180.000000                    180.000000   \n",
            "mean                29.933278                     35.485389   \n",
            "std                  7.813442                      9.652940   \n",
            "min                  9.920000                     16.990000   \n",
            "25%                 24.120000                     29.090000   \n",
            "50%                 27.590000                     31.800000   \n",
            "75%                 36.100000                     42.827500   \n",
            "max                 47.240000                     56.830000   \n",
            "\n",
            "       Dynamic Public Transport Information (%)  Traffic Monitoring (%)  \\\n",
            "count                                180.000000              180.000000   \n",
            "mean                                  20.019389               27.641611   \n",
            "std                                    6.886342                8.642577   \n",
            "min                                    9.500000               14.270000   \n",
            "25%                                   14.112500               20.212500   \n",
            "50%                                   19.885000               27.315000   \n",
            "75%                                   26.175000               35.320000   \n",
            "max                                   31.460000               41.740000   \n",
            "\n",
            "       Availability of WIFI in Public Areas (count)  \\\n",
            "count                                    180.000000   \n",
            "mean                                     105.466667   \n",
            "std                                       20.298168   \n",
            "min                                       67.000000   \n",
            "25%                                       89.750000   \n",
            "50%                                      103.500000   \n",
            "75%                                      114.000000   \n",
            "max                                      172.000000   \n",
            "\n",
            "       Water Supply ICT Monitoring (%)  \\\n",
            "count                       180.000000   \n",
            "mean                         42.371889   \n",
            "std                           8.611707   \n",
            "min                          28.640000   \n",
            "25%                          34.970000   \n",
            "50%                          42.345000   \n",
            "75%                          49.700000   \n",
            "max                          57.400000   \n",
            "\n",
            "       Drainage / Storm Water System ICT Monitoring (%)  \\\n",
            "count                                        180.000000   \n",
            "mean                                          30.104000   \n",
            "std                                            6.938159   \n",
            "min                                           19.170000   \n",
            "25%                                           24.022500   \n",
            "50%                                           30.030000   \n",
            "75%                                           35.980000   \n",
            "max                                           41.970000   \n",
            "\n",
            "       Electricity Supply ICT Monitoring (%)  Demand Response Penetration (%)  \\\n",
            "count                             180.000000                       180.000000   \n",
            "mean                               47.803889                        17.553611   \n",
            "std                                 8.724584                         5.177225   \n",
            "min                                33.250000                         9.600000   \n",
            "25%                                40.472500                        13.057500   \n",
            "50%                                47.365000                        17.515000   \n",
            "75%                                55.570000                        22.087500   \n",
            "max                                62.950000                        26.230000   \n",
            "\n",
            "       Intersection Control (%)  Open data (%)  e-Government (%)  \\\n",
            "count                180.000000     180.000000        180.000000   \n",
            "mean                  22.411278       9.936556         30.018222   \n",
            "std                    5.162420       3.417569          6.930577   \n",
            "min                   14.320000       4.750000         19.070000   \n",
            "25%                   17.892500       6.930000         24.100000   \n",
            "50%                   22.445000       9.935000         29.935000   \n",
            "75%                   26.785000      12.800000         36.025000   \n",
            "max                   31.410000      15.680000         41.950000   \n",
            "\n",
            "       Public Sector e-procurement (%)  \n",
            "count                       180.000000  \n",
            "mean                         37.595278  \n",
            "std                           8.653516  \n",
            "min                          23.850000  \n",
            "25%                          30.170000  \n",
            "50%                          37.430000  \n",
            "75%                          45.077500  \n",
            "max                          52.420000  \n"
          ]
        }
      ]
    },
    {
      "cell_type": "markdown",
      "source": [
        "1. What is the size of the dataset? (Number of rows and columns)"
      ],
      "metadata": {
        "id": "QafZMRC59Noi"
      }
    },
    {
      "cell_type": "code",
      "source": [
        "num_rows, num_columns = df.shape\n",
        "\n",
        "print(f\"The dataset has {num_rows} rows and {num_columns} columns.\")"
      ],
      "metadata": {
        "colab": {
          "base_uri": "https://localhost:8080/"
        },
        "id": "Rif84IltnH_S",
        "outputId": "c7ec7d24-64f2-48dd-e4b9-df3032b0db33"
      },
      "execution_count": null,
      "outputs": [
        {
          "output_type": "stream",
          "name": "stdout",
          "text": [
            "The dataset has 180 rows and 20 columns.\n"
          ]
        }
      ]
    },
    {
      "cell_type": "markdown",
      "source": [
        "2.: What are the data types of each column?"
      ],
      "metadata": {
        "id": "Jq8bYVXZ9Gja"
      }
    },
    {
      "cell_type": "code",
      "source": [
        "column_types = df.dtypes\n",
        "\n",
        "print(column_types)"
      ],
      "metadata": {
        "colab": {
          "base_uri": "https://localhost:8080/"
        },
        "id": "javzeuNhnpwa",
        "outputId": "b9c05bf4-853d-49a4-a62d-e438c5863a80"
      },
      "execution_count": null,
      "outputs": [
        {
          "output_type": "stream",
          "name": "stdout",
          "text": [
            "City                                                 object\n",
            "Year                                                  int64\n",
            "Household Internet Access (%)                       float64\n",
            "Fixed Broadband Subscriptions (%)                   float64\n",
            "Wireless Broadband Subscriptions (%)                float64\n",
            "Wireless Broadband Coverage 3G (%)                  float64\n",
            "Wireless Broadband Coverage 4G (%)                  float64\n",
            "Smart Water Meters (%)                              float64\n",
            "Smart Electricity Meters (%)                        float64\n",
            "Dynamic Public Transport Information (%)            float64\n",
            "Traffic Monitoring (%)                              float64\n",
            "Availability of WIFI in Public Areas (count)          int64\n",
            "Water Supply ICT Monitoring (%)                     float64\n",
            "Drainage / Storm Water System ICT Monitoring (%)    float64\n",
            "Electricity Supply ICT Monitoring (%)               float64\n",
            "Demand Response Penetration (%)                     float64\n",
            "Intersection Control (%)                            float64\n",
            "Open data (%)                                       float64\n",
            "e-Government (%)                                    float64\n",
            "Public Sector e-procurement (%)                     float64\n",
            "dtype: object\n"
          ]
        }
      ]
    },
    {
      "cell_type": "markdown",
      "source": [
        "3.: Are there any missing values in the dataset? If so, which columns have\n",
        "missing values and how many?"
      ],
      "metadata": {
        "id": "4lSq7l8I9As6"
      }
    },
    {
      "cell_type": "code",
      "source": [
        "missing_values = df.isnull().sum()\n",
        "print(\"Columns with missing values and their counts:\")\n",
        "print(missing_values)"
      ],
      "metadata": {
        "colab": {
          "base_uri": "https://localhost:8080/"
        },
        "id": "eIFmpRGLoMc6",
        "outputId": "c1a5ad5b-bd80-44fa-b057-38f8d01b8513"
      },
      "execution_count": null,
      "outputs": [
        {
          "output_type": "stream",
          "name": "stdout",
          "text": [
            "Columns with missing values and their counts:\n",
            "City                                                0\n",
            "Year                                                0\n",
            "Household Internet Access (%)                       0\n",
            "Fixed Broadband Subscriptions (%)                   0\n",
            "Wireless Broadband Subscriptions (%)                0\n",
            "Wireless Broadband Coverage 3G (%)                  0\n",
            "Wireless Broadband Coverage 4G (%)                  0\n",
            "Smart Water Meters (%)                              0\n",
            "Smart Electricity Meters (%)                        0\n",
            "Dynamic Public Transport Information (%)            0\n",
            "Traffic Monitoring (%)                              0\n",
            "Availability of WIFI in Public Areas (count)        0\n",
            "Water Supply ICT Monitoring (%)                     0\n",
            "Drainage / Storm Water System ICT Monitoring (%)    0\n",
            "Electricity Supply ICT Monitoring (%)               0\n",
            "Demand Response Penetration (%)                     0\n",
            "Intersection Control (%)                            0\n",
            "Open data (%)                                       0\n",
            "e-Government (%)                                    0\n",
            "Public Sector e-procurement (%)                     0\n",
            "dtype: int64\n"
          ]
        }
      ]
    },
    {
      "cell_type": "markdown",
      "source": [
        "4.What are the unique values in a categorical column of your choice? How\n",
        "many unique values are there?"
      ],
      "metadata": {
        "id": "fcnZ5_xR88TK"
      }
    },
    {
      "cell_type": "code",
      "source": [
        "\n",
        "categorical_column = 'Household Internet Access (%)'\n",
        "\n",
        "unique_values = df[categorical_column].unique()\n",
        "num_unique_values = len(unique_values)\n",
        "\n",
        "print(f\"Unique values in '{categorical_column}':\")\n",
        "print(unique_values)\n",
        "print(f\"Number of unique values: {num_unique_values}\")"
      ],
      "metadata": {
        "colab": {
          "base_uri": "https://localhost:8080/"
        },
        "id": "iz7yezjG4m8T",
        "outputId": "ca9514dd-84d5-4e9d-c7fb-e48751db94f7"
      },
      "execution_count": null,
      "outputs": [
        {
          "output_type": "stream",
          "name": "stdout",
          "text": [
            "Unique values in 'Household Internet Access (%)':\n",
            "[79.45 80.43 86.32 88.62 79.1  80.14 83.26 87.42 92.63 86.82 80.84 86.75\n",
            " 87.74 64.27 67.23 72.18 56.96 62.04 63.06 64.08 73.1  75.19 77.28 79.37\n",
            " 81.46 83.55 53.65 59.84 60.87 59.81 63.73 71.58 70.18 72.19 74.19 76.2\n",
            " 78.2  80.21 71.7  73.75 75.8  77.84 79.89 81.94 65.37 66.38 74.42 70.69\n",
            " 72.71 74.73 76.75 78.77 80.79 68.62 70.58 72.54 74.5  76.46 78.42 56.14\n",
            " 58.14 61.15 63.14 70.91 67.63 69.57 71.5  73.43 75.36 77.29 72.32 74.38\n",
            " 76.45 78.51 80.58 82.65 76.42 86.09 64.55 66.63 72.88 65.17 55.41 56.41\n",
            " 62.46 71.06 73.09 75.12 77.15 79.18 81.21 67.02 68.93 70.85 72.76 74.68\n",
            " 76.59 60.51 61.52 73.48 75.58 77.68 79.78 81.88 83.98 68.41 70.37 74.28\n",
            " 76.23 78.19 71.39 75.47 77.51 79.55 81.59 66.79 68.7  70.61 72.52 74.43\n",
            " 76.34]\n",
            "Number of unique values: 121\n"
          ]
        }
      ]
    },
    {
      "cell_type": "markdown",
      "source": [
        "5.: For a numerical column of your choice, calculate the mean, median, and\n",
        "standard deviation"
      ],
      "metadata": {
        "id": "f1gZjOaf828q"
      }
    },
    {
      "cell_type": "code",
      "source": [
        "numerical_column = 'Smart Water Meters (%)'\n",
        "\n",
        "mean_value = df[numerical_column].mean()\n",
        "median_value = df[numerical_column].median()\n",
        "std_dev = df[numerical_column].std()\n",
        "\n",
        "print(f\"Mean of '{numerical_column}': {mean_value}\")\n",
        "print(f\"Median of '{numerical_column}': {median_value}\")\n",
        "print(f\"Standard Deviation of '{numerical_column}': {std_dev}\")"
      ],
      "metadata": {
        "colab": {
          "base_uri": "https://localhost:8080/"
        },
        "id": "qP0M-5hj5Nx7",
        "outputId": "18e0bf2e-6d7b-4085-db0e-6c48a5b54d8c"
      },
      "execution_count": null,
      "outputs": [
        {
          "output_type": "stream",
          "name": "stdout",
          "text": [
            "Mean of 'Smart Water Meters (%)': 29.933277777777775\n",
            "Median of 'Smart Water Meters (%)': 27.59\n",
            "Standard Deviation of 'Smart Water Meters (%)': 7.813441922162844\n"
          ]
        }
      ]
    },
    {
      "cell_type": "markdown",
      "source": [
        "6.Identify any potential outliers in a numerical column of your choice. Explain\n",
        "your approach.\n"
      ],
      "metadata": {
        "id": "CVS9TkiW8x9T"
      }
    },
    {
      "cell_type": "code",
      "source": [
        "import pandas as pd\n",
        "import numpy as np\n",
        "Q1 = df[numerical_column].quantile(0.25)\n",
        "Q3 = df[numerical_column].quantile(0.75)\n",
        "IQR = Q3 - Q1\n",
        "lower_bound = Q1 - 1.5 * IQR\n",
        "upper_bound = Q3 + 1.5 * IQR\n",
        "\n",
        "outliers = df[(df[numerical_column] < lower_bound) | (df[numerical_column] > upper_bound)]\n",
        "\n",
        "print(\"Potential outliers:\")\n",
        "print(outliers)"
      ],
      "metadata": {
        "colab": {
          "base_uri": "https://localhost:8080/"
        },
        "id": "FzqrYoZF6Iez",
        "outputId": "274f237e-8440-4aaa-a551-19ec0cf124c6"
      },
      "execution_count": null,
      "outputs": [
        {
          "output_type": "stream",
          "name": "stdout",
          "text": [
            "Potential outliers:\n",
            "Empty DataFrame\n",
            "Columns: [City, Year, Household Internet Access (%), Fixed Broadband Subscriptions (%), Wireless Broadband Subscriptions (%), Wireless Broadband Coverage 3G (%), Wireless Broadband Coverage 4G (%), Smart Water Meters (%), Smart Electricity Meters (%), Dynamic Public Transport Information (%), Traffic Monitoring (%), Availability of WIFI in Public Areas (count), Water Supply ICT Monitoring (%), Drainage / Storm Water System ICT Monitoring (%), Electricity Supply ICT Monitoring (%), Demand Response Penetration (%), Intersection Control (%), Open data (%), e-Government (%), Public Sector e-procurement (%)]\n",
            "Index: []\n"
          ]
        }
      ]
    },
    {
      "cell_type": "markdown",
      "source": [
        "7. Find the correlation between numerical columns and discuss any interesting\n",
        "relationships"
      ],
      "metadata": {
        "id": "LSlAffyp8ozi"
      }
    },
    {
      "cell_type": "code",
      "source": [
        "correlation_matrix = df.head()\n",
        "\n",
        "\n",
        "print(\"correlation matrix:\")\n",
        "print(correlation_matrix)"
      ],
      "metadata": {
        "colab": {
          "base_uri": "https://localhost:8080/"
        },
        "id": "rhq_dGMy6qDM",
        "outputId": "81bb910a-6e18-4360-eb86-6090513a759b"
      },
      "execution_count": null,
      "outputs": [
        {
          "output_type": "stream",
          "name": "stdout",
          "text": [
            "correlation matrix:\n",
            "     City  Year  Household Internet Access (%)  \\\n",
            "0  Mumbai  2019                          79.45   \n",
            "1  Mumbai  2020                          79.45   \n",
            "2  Mumbai  2021                          80.43   \n",
            "3  Mumbai  2022                          86.32   \n",
            "4  Mumbai  2023                          86.32   \n",
            "\n",
            "   Fixed Broadband Subscriptions (%)  Wireless Broadband Subscriptions (%)  \\\n",
            "0                              48.00                                 50.35   \n",
            "1                              54.26                                 53.38   \n",
            "2                              54.26                                 60.42   \n",
            "3                              54.26                                 66.47   \n",
            "4                              54.26                                 66.47   \n",
            "\n",
            "   Wireless Broadband Coverage 3G (%)  Wireless Broadband Coverage 4G (%)  \\\n",
            "0                               91.57                               59.19   \n",
            "1                               92.58                               64.12   \n",
            "2                               93.60                               69.06   \n",
            "3                               94.62                               73.99   \n",
            "4                               95.64                               78.92   \n",
            "\n",
            "   Smart Water Meters (%)  Smart Electricity Meters (%)  \\\n",
            "0                   33.30                          43.4   \n",
            "1                   34.34                          43.4   \n",
            "2                   34.34                          43.4   \n",
            "3                   34.34                          43.4   \n",
            "4                   35.38                          43.4   \n",
            "\n",
            "   Dynamic Public Transport Information (%)  Traffic Monitoring (%)  \\\n",
            "0                                     10.04                   15.30   \n",
            "1                                     14.06                   20.40   \n",
            "2                                     18.08                   25.49   \n",
            "3                                     22.09                   30.59   \n",
            "4                                     26.11                   35.69   \n",
            "\n",
            "   Availability of WIFI in Public Areas (count)  \\\n",
            "0                                           137   \n",
            "1                                           172   \n",
            "2                                           167   \n",
            "3                                           142   \n",
            "4                                           143   \n",
            "\n",
            "   Water Supply ICT Monitoring (%)  \\\n",
            "0                            31.31   \n",
            "1                            36.53   \n",
            "2                            41.74   \n",
            "3                            46.96   \n",
            "4                            52.18   \n",
            "\n",
            "   Drainage / Storm Water System ICT Monitoring (%)  \\\n",
            "0                                             20.72   \n",
            "1                                             24.86   \n",
            "2                                             29.00   \n",
            "3                                             33.15   \n",
            "4                                             37.29   \n",
            "\n",
            "   Electricity Supply ICT Monitoring (%)  Demand Response Penetration (%)  \\\n",
            "0                                  33.88                            10.05   \n",
            "1                                  38.72                            13.06   \n",
            "2                                  43.56                            16.08   \n",
            "3                                  48.40                            19.09   \n",
            "4                                  53.24                            22.11   \n",
            "\n",
            "   Intersection Control (%)  Open data (%)  e-Government (%)  \\\n",
            "0                     15.48           4.85             19.07   \n",
            "1                     18.57           6.79             22.88   \n",
            "2                     21.67           8.73             26.70   \n",
            "3                     24.76          10.67             30.51   \n",
            "4                     27.86          12.61             34.32   \n",
            "\n",
            "   Public Sector e-procurement (%)  \n",
            "0                            24.20  \n",
            "1                            29.04  \n",
            "2                            33.88  \n",
            "3                            38.73  \n",
            "4                            43.57  \n"
          ]
        }
      ]
    },
    {
      "cell_type": "markdown",
      "source": [
        "8.: Group the data by a categorical column and compute the aggregate statistics\n",
        "(e.g., mean, sum) for a numerical column.\n"
      ],
      "metadata": {
        "id": "FlSX7VHu8iLS"
      }
    },
    {
      "cell_type": "code",
      "source": [
        "grouped_data = df.groupby('Household Internet Access (%)')['Smart Water Meters (%)'].mean()\n",
        "\n",
        "print(grouped_data)"
      ],
      "metadata": {
        "colab": {
          "base_uri": "https://localhost:8080/"
        },
        "id": "0izPb7YJ6tpz",
        "outputId": "7ee86d2e-74fa-4fd0-c2f2-8508b8baaf30"
      },
      "execution_count": null,
      "outputs": [
        {
          "output_type": "stream",
          "name": "stdout",
          "text": [
            "Household Internet Access (%)\n",
            "53.65    24.670000\n",
            "55.41    24.120000\n",
            "56.14     9.920000\n",
            "56.41    24.120000\n",
            "56.96    21.750000\n",
            "           ...    \n",
            "86.82    32.331667\n",
            "87.42    31.960000\n",
            "87.74    38.895000\n",
            "88.62    38.330000\n",
            "92.63    37.960000\n",
            "Name: Smart Water Meters (%), Length: 121, dtype: float64\n"
          ]
        }
      ]
    },
    {
      "cell_type": "markdown",
      "source": [
        "\n",
        "9.Based on your analysis, provide a brief summary of any insights or patterns\n",
        "you discovered in the dataset.\n",
        "\n",
        "\n",
        "Based on the analysis, here are some insights and patterns observed in the dataset:\n",
        "\n",
        "1. Missing Values: There are missing values in multiple columns,\n",
        "   indicating potential data quality issues that need to be addressed before further analysis.\n",
        "\n",
        " 2. Unique Values: The 'Household Internet Access (%)' column shows a good\n",
        "   distribution of unique values, suggesting variability in internet access across different regions or demographics.\n",
        " 3. Numerical Distribution: The 'Smart Water Meters (%)' column exhibits a certain\n",
        "  distribution with a calculated mean, median, and standard deviation.\n",
        "  Potential outliers have been identified, which might require further investigation or handling.\n",
        "\n",
        " 4. Correlation: A correlation matrix was generated, but it only includes the first few rows\n",
        "  of the dataset. A more comprehensive correlation analysis on the entire dataset could reveal\n",
        "  relationships between different variables.\n",
        "\n",
        " 5. Grouped Analysis: Grouping the data by 'Household Internet Access (%)' and calculating\n",
        "    the mean of 'Smart Water Meters (%)' for each group provides insights into potential\n",
        "  relationships between internet access and smart water meter adoption.\n",
        "\n",
        " Further analysis, including data cleaning, visualization, and more advanced statistical\n",
        "techniques, could uncover deeper insights and patterns within the dataset."
      ],
      "metadata": {
        "id": "hwAsOZi-70VG"
      }
    }
  ]
}