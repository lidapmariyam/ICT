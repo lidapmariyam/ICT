{
  "nbformat": 4,
  "nbformat_minor": 0,
  "metadata": {
    "colab": {
      "provenance": [],
      "authorship_tag": "ABX9TyNTIAmZKkiVyoKeYTHb56Yq",
      "include_colab_link": true
    },
    "kernelspec": {
      "name": "python3",
      "display_name": "Python 3"
    },
    "language_info": {
      "name": "python"
    }
  },
  "cells": [
    {
      "cell_type": "markdown",
      "metadata": {
        "id": "view-in-github",
        "colab_type": "text"
      },
      "source": [
        "<a href=\"https://colab.research.google.com/github/lidapmariyam/ICT/blob/main/Daily_task_Python_basic.ipynb\" target=\"_parent\"><img src=\"https://colab.research.google.com/assets/colab-badge.svg\" alt=\"Open In Colab\"/></a>"
      ]
    },
    {
      "cell_type": "markdown",
      "source": [
        "1.Given the string \"Hello, World!\", extract and print the\n",
        "substring \"Hello\"."
      ],
      "metadata": {
        "id": "LqM8wJSHFLJY"
      }
    },
    {
      "cell_type": "code",
      "source": [
        "s = \"Hello, World!\"\n",
        "substring = s[:5]\n",
        "print(substring)"
      ],
      "metadata": {
        "colab": {
          "base_uri": "https://localhost:8080/"
        },
        "id": "t6KnZnixFLh7",
        "outputId": "ef238a03-d84e-404f-a223-18bb1b23fd3d"
      },
      "execution_count": null,
      "outputs": [
        {
          "output_type": "stream",
          "name": "stdout",
          "text": [
            "Hello\n"
          ]
        }
      ]
    },
    {
      "cell_type": "markdown",
      "source": [
        "2.Given the string \"Python is fun\", extract and print the\n",
        "substring \"is\"."
      ],
      "metadata": {
        "id": "TP3u4ox8F2Vt"
      }
    },
    {
      "cell_type": "code",
      "source": [
        "s = \"Python is fun\"\n",
        "substring = s[7:9]\n",
        "print(substring)"
      ],
      "metadata": {
        "colab": {
          "base_uri": "https://localhost:8080/"
        },
        "id": "7I1HIrmXF2o2",
        "outputId": "d87c29bd-3641-4e70-d59b-1bbe8f306fe7"
      },
      "execution_count": null,
      "outputs": [
        {
          "output_type": "stream",
          "name": "stdout",
          "text": [
            "is\n"
          ]
        }
      ]
    },
    {
      "cell_type": "markdown",
      "source": [
        "3.Given the string \"Programming\", extract and print the\n",
        "substring \"gram\" using slicing indices."
      ],
      "metadata": {
        "id": "JjG4Mub9GJSr"
      }
    },
    {
      "cell_type": "code",
      "source": [
        "s = \"Programming\"\n",
        "substring = s[3:7]\n",
        "print(substring)"
      ],
      "metadata": {
        "colab": {
          "base_uri": "https://localhost:8080/"
        },
        "id": "GPIC-zLiGept",
        "outputId": "faa82641-3e1a-4ab8-e718-862574bcb673"
      },
      "execution_count": null,
      "outputs": [
        {
          "output_type": "stream",
          "name": "stdout",
          "text": [
            "gram\n"
          ]
        }
      ]
    },
    {
      "cell_type": "markdown",
      "source": [
        "\n",
        "4.Given the string \"abcdefgh\", use slicing to print only the\n",
        "characters at even indices."
      ],
      "metadata": {
        "id": "ZS9Eq_RCGuyQ"
      }
    },
    {
      "cell_type": "code",
      "source": [
        "s = \"abcdefgh\"\n",
        "even_indices_characters = s[::4]\n",
        "print(even_indices_characters)"
      ],
      "metadata": {
        "colab": {
          "base_uri": "https://localhost:8080/"
        },
        "id": "5d4nrsBpGvX8",
        "outputId": "9865d75e-0134-4d1a-d5f1-62f0a17c33f0"
      },
      "execution_count": null,
      "outputs": [
        {
          "output_type": "stream",
          "name": "stdout",
          "text": [
            "ae\n"
          ]
        }
      ]
    },
    {
      "cell_type": "markdown",
      "source": [
        "\n",
        "5. Given the string \"abcdefg\", use negative indices to extract\n",
        "and print the substring \"efg\"."
      ],
      "metadata": {
        "id": "UqeFGMDiHT-T"
      }
    },
    {
      "cell_type": "code",
      "source": [
        "s = \"abcdefg\"\n",
        "substring = s[-3:]\n",
        "print(substring)"
      ],
      "metadata": {
        "colab": {
          "base_uri": "https://localhost:8080/"
        },
        "id": "9oe-rVXVHURj",
        "outputId": "891714c5-b7f2-4b37-fb60-e8ea8ad3402b"
      },
      "execution_count": null,
      "outputs": [
        {
          "output_type": "stream",
          "name": "stdout",
          "text": [
            "efg\n"
          ]
        }
      ]
    },
    {
      "cell_type": "markdown",
      "source": [
        "6.Given the string \"Data Science\", use negative indices to\n",
        "extract and print the last three characters."
      ],
      "metadata": {
        "id": "iipH4J0hHkA7"
      }
    },
    {
      "cell_type": "code",
      "source": [
        "s = \"Data Science\"\n",
        "last_three_chars = s[-3:]\n",
        "print(last_three_chars)"
      ],
      "metadata": {
        "colab": {
          "base_uri": "https://localhost:8080/"
        },
        "id": "yUvSoKeYHkYa",
        "outputId": "15c3fb0d-ebc9-4cd1-ed06-118ed94e8b61"
      },
      "execution_count": null,
      "outputs": [
        {
          "output_type": "stream",
          "name": "stdout",
          "text": [
            "nce\n"
          ]
        }
      ]
    },
    {
      "cell_type": "markdown",
      "source": [
        "7.Given the string \"abcdefghij\", use slicing with a step to\n",
        "print every second character."
      ],
      "metadata": {
        "id": "SmsgqOGeIGkB"
      }
    },
    {
      "cell_type": "code",
      "source": [
        "s = \"abcdefghij\"\n",
        "every_second_char = s[::2]\n",
        "print(every_second_char)"
      ],
      "metadata": {
        "colab": {
          "base_uri": "https://localhost:8080/"
        },
        "id": "Xo7OtU8zIGxS",
        "outputId": "c2a603a1-db2e-4de3-99d2-4a0f4d1b9fb6"
      },
      "execution_count": null,
      "outputs": [
        {
          "output_type": "stream",
          "name": "stdout",
          "text": [
            "acegi\n"
          ]
        }
      ]
    },
    {
      "cell_type": "markdown",
      "source": [
        "\n",
        "8.Given the string \"1234567890\", use slicing with a step to\n",
        "print the odd digits."
      ],
      "metadata": {
        "id": "DA_I8gLYIe1u"
      }
    },
    {
      "cell_type": "code",
      "source": [
        "s = \"1234567890\"\n",
        "odd_digits = s[1::2]\n",
        "print(odd_digits)"
      ],
      "metadata": {
        "colab": {
          "base_uri": "https://localhost:8080/"
        },
        "id": "JBlazkHBIfD1",
        "outputId": "d52d77ac-eccb-4c89-eda2-5b6f37c56095"
      },
      "execution_count": null,
      "outputs": [
        {
          "output_type": "stream",
          "name": "stdout",
          "text": [
            "24680\n"
          ]
        }
      ]
    },
    {
      "cell_type": "markdown",
      "source": [
        "9.Given the string \"Hello\", use slicing to print the string in\n",
        "reverse order"
      ],
      "metadata": {
        "id": "qIMR6yn4Is4f"
      }
    },
    {
      "cell_type": "code",
      "source": [
        "s = \"Hello\"\n",
        "reversed_string = s[::-1]\n",
        "print(reversed_string)"
      ],
      "metadata": {
        "colab": {
          "base_uri": "https://localhost:8080/"
        },
        "id": "LEuyJ-flItJl",
        "outputId": "9ef7f437-43a3-4ee5-d0f8-88b978ff6e0d"
      },
      "execution_count": null,
      "outputs": [
        {
          "output_type": "stream",
          "name": "stdout",
          "text": [
            "olleH\n"
          ]
        }
      ]
    },
    {
      "cell_type": "markdown",
      "source": [
        "10.Given the string \"abcdefghijk\", extract and print the\n",
        "substring \"acegik\" using slicing"
      ],
      "metadata": {
        "id": "jRBgQensI6b6"
      }
    },
    {
      "cell_type": "code",
      "source": [
        "s = \"abcdefghijk\"\n",
        "substring = s[::2]\n",
        "print(substring)"
      ],
      "metadata": {
        "colab": {
          "base_uri": "https://localhost:8080/"
        },
        "id": "uWRkJaKVI6t_",
        "outputId": "74bef601-e64f-4665-812e-3d24cbf220df"
      },
      "execution_count": null,
      "outputs": [
        {
          "output_type": "stream",
          "name": "stdout",
          "text": [
            "acegik\n"
          ]
        }
      ]
    },
    {
      "cell_type": "markdown",
      "source": [
        "11.Write a program to find sum of all elements in a list of\n",
        "integers"
      ],
      "metadata": {
        "id": "Ye73pT4TJGIQ"
      }
    },
    {
      "cell_type": "code",
      "source": [
        "numbers = [1, 2, 3, 4, 5]\n",
        "total_sum = sum(numbers)\n",
        "print(total_sum)"
      ],
      "metadata": {
        "colab": {
          "base_uri": "https://localhost:8080/"
        },
        "id": "8YHW5Nb4JGyq",
        "outputId": "f5797327-e1a1-4b7d-81a8-a06d0682f2f9"
      },
      "execution_count": null,
      "outputs": [
        {
          "output_type": "stream",
          "name": "stdout",
          "text": [
            "15\n"
          ]
        }
      ]
    },
    {
      "cell_type": "markdown",
      "source": [
        "12.Input a sentence as a string.\n",
        "a) Print its length\n",
        "b) Print the first half of string"
      ],
      "metadata": {
        "id": "gR9RSMDIJYOS"
      }
    },
    {
      "cell_type": "code",
      "source": [
        "sentence = input(\"Enter a sentence\")\n",
        "length = len(sentence)\n",
        "print(\"Length of the sentence\")\n",
        "half_length = length // 2\n",
        "first_half = sentence[:half_length]\n",
        "print(\"First half of the sentence:\", first_half)"
      ],
      "metadata": {
        "colab": {
          "base_uri": "https://localhost:8080/"
        },
        "id": "bFA8TVvWTeKI",
        "outputId": "32735253-4d5f-4f5c-9b1d-51bae092cea2"
      },
      "execution_count": null,
      "outputs": [
        {
          "output_type": "stream",
          "name": "stdout",
          "text": [
            "Enter a sentenceI am Lida\n",
            "Length of the sentence\n",
            "First half of the sentence: I am\n"
          ]
        }
      ]
    },
    {
      "cell_type": "markdown",
      "source": [
        "13.Write a program to enter a tuple of integers as\n",
        "(78,45,32,19,82,77,40,39). Change the third value in the tuple to\n",
        "100"
      ],
      "metadata": {
        "id": "Rn4wV_mEKA5i"
      }
    },
    {
      "cell_type": "code",
      "source": [
        "Given_tuple = (78, 45, 32, 19, 82, 77, 40, 39)\n",
        "temp_list = list(Given_tuple)\n",
        "temp_list[2] = 100\n",
        "Changed_tuple = tuple(temp_list)\n",
        "print(Changed_tuple)"
      ],
      "metadata": {
        "colab": {
          "base_uri": "https://localhost:8080/"
        },
        "id": "F2bCwpI2KBRl",
        "outputId": "dcb34c33-b5ef-415e-fdc5-a0d3bbf97e1f"
      },
      "execution_count": null,
      "outputs": [
        {
          "output_type": "stream",
          "name": "stdout",
          "text": [
            "(78, 45, 100, 19, 82, 77, 40, 39)\n"
          ]
        }
      ]
    },
    {
      "cell_type": "markdown",
      "source": [
        "14. Consider a list\n",
        "listA=[19,32,10,55,31,32,94,29,10,65,77,40,40]\n",
        "(a) Delete the first occurrence of 32\n",
        "(b) Delete all occurrences of 40\n",
        "(c) Delete the value at index=5\n",
        "(d) Modify the value at index=9 as 300\n",
        "(e) Add 200 at index=2\n",
        "(f) Print the final list with its length, maximum value\n",
        "and sum of all elements"
      ],
      "metadata": {
        "id": "Ilb2Q50ZKR3B"
      }
    },
    {
      "cell_type": "code",
      "source": [
        "listA=[19,32,10,55,31,32,94,29,10,65,77,40,40]\n",
        "listA.remove(32)\n",
        "listA = [value for value in listA if value != 40]\n",
        "del listA[5]\n",
        "listA[-1]=300\n",
        "listA.insert(2, 200)\n",
        "print(\"Final list:\", listA)\n",
        "print(\"Length of the list:\", len(listA))\n",
        "print(\"Maximum value in the list:\", max(listA))\n",
        "print(\"Sum of all elements in the list:\", sum(listA))"
      ],
      "metadata": {
        "id": "CphVt4S3yJPX",
        "outputId": "5616d36c-13eb-4c0b-8b17-cad5f5ad20a2",
        "colab": {
          "base_uri": "https://localhost:8080/"
        }
      },
      "execution_count": null,
      "outputs": [
        {
          "output_type": "stream",
          "name": "stdout",
          "text": [
            "Final list: [19, 10, 200, 55, 31, 32, 29, 10, 65, 300]\n",
            "Length of the list: 10\n",
            "Maximum value in the list: 300\n",
            "Sum of all elements in the list: 751\n"
          ]
        }
      ]
    },
    {
      "cell_type": "markdown",
      "source": [
        "15.Consider a string ”The day has been long”.\n",
        "(a) Delete the value at index =4\n",
        "(b) Print the string 4 times in a single line with space\n",
        "between each repetition\n",
        "(c) Print the string 3 times in a new line each time\n",
        "(d) Modify the string at index 7 as ’A’\n",
        "(e) Print the string from index 4 to 15\n",
        "(f) Print the final string with its length"
      ],
      "metadata": {
        "id": "9-pTRPEnKi0K"
      }
    },
    {
      "cell_type": "code",
      "source": [
        "s = \"The day has been long\"\n",
        "s = s[:4] + s[5:]\n",
        "print(\" \".join([s] * 4))\n",
        "print(s)\n",
        "print(s)\n",
        "print(s)\n",
        "s = s[:7] + 'A' + s[8:]\n",
        "print(s[4:16])\n",
        "print(\"Final string:\", s)\n",
        "print(\"Length of the final string:\", len(s))"
      ],
      "metadata": {
        "colab": {
          "base_uri": "https://localhost:8080/"
        },
        "id": "LhrPScZBKjEe",
        "outputId": "4583478c-26f3-444e-be4d-c1b8fae1ce6f"
      },
      "execution_count": null,
      "outputs": [
        {
          "output_type": "stream",
          "name": "stdout",
          "text": [
            "The ay has been long The ay has been long The ay has been long The ay has been long\n",
            "The ay has been long\n",
            "The ay has been long\n",
            "The ay has been long\n",
            "ay Aas been \n",
            "Final string: The ay Aas been long\n",
            "Length of the final string: 20\n"
          ]
        }
      ]
    }
  ]
}