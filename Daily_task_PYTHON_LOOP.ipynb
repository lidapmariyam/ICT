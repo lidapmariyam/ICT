{
  "nbformat": 4,
  "nbformat_minor": 0,
  "metadata": {
    "colab": {
      "provenance": [],
      "authorship_tag": "ABX9TyOMKTwAnDnIbmfkeW32uCSx",
      "include_colab_link": true
    },
    "kernelspec": {
      "name": "python3",
      "display_name": "Python 3"
    },
    "language_info": {
      "name": "python"
    }
  },
  "cells": [
    {
      "cell_type": "markdown",
      "metadata": {
        "id": "view-in-github",
        "colab_type": "text"
      },
      "source": [
        "<a href=\"https://colab.research.google.com/github/lidapmariyam/ICT/blob/main/Daily_task_PYTHON_LOOP.ipynb\" target=\"_parent\"><img src=\"https://colab.research.google.com/assets/colab-badge.svg\" alt=\"Open In Colab\"/></a>"
      ]
    },
    {
      "cell_type": "markdown",
      "source": [
        "\n",
        "1.Take input of age of 3 people by user and determine oldest and\n",
        "youngest among them."
      ],
      "metadata": {
        "id": "qabJ_J7AjYGR"
      }
    },
    {
      "cell_type": "code",
      "source": [
        "age1 = int(input(\"Enter the age of the first person: \"))\n",
        "age2 = int(input(\"Enter the age of the second person: \"))\n",
        "age3 = int(input(\"Enter the age of the third person: \"))\n",
        "ages = [age1, age2, age3]\n",
        "oldest = max(ages)\n",
        "youngest = min(ages)\n",
        "print(\"The oldest age is:\", oldest)\n",
        "print(\"The youngest age is:\", youngest)"
      ],
      "metadata": {
        "id": "IxxkcD3wjZCi",
        "colab": {
          "base_uri": "https://localhost:8080/"
        },
        "outputId": "444364a2-795c-48c3-8766-504c6a142405"
      },
      "execution_count": null,
      "outputs": [
        {
          "output_type": "stream",
          "name": "stdout",
          "text": [
            "Enter the age of the first person: 80\n",
            "Enter the age of the second person: 75\n",
            "Enter the age of the third person: 65\n",
            "The oldest age is: 80\n",
            "The youngest age is: 65\n"
          ]
        }
      ]
    },
    {
      "cell_type": "markdown",
      "source": [
        "\n",
        "2.Write a program that asks the user for their exam score and\n",
        "calculates their grade based on the following conditions:\n",
        "a. A score of 90 or above is an A.\n",
        "b. A score between 80 and 89 is a B.\n",
        "c. A score between 70 and 79 is a C.\n",
        "d. A score below 70 is an F."
      ],
      "metadata": {
        "id": "qbLrLMZtkqPg"
      }
    },
    {
      "cell_type": "code",
      "source": [
        "score = float(input(\"Enter your exam score: \"))\n",
        "if score >= 90:\n",
        "    grade = 'A'\n",
        "elif 80 <= score < 90:\n",
        "    grade = 'B'\n",
        "elif 70 <= score < 80:\n",
        "    grade = 'C'\n",
        "else:\n",
        "    grade = 'F'\n",
        "print(\"Your grade is:\", grade)"
      ],
      "metadata": {
        "colab": {
          "base_uri": "https://localhost:8080/"
        },
        "id": "iEktJPvakqfY",
        "outputId": "9462be7c-f474-49cf-8551-086c6e94572b"
      },
      "execution_count": null,
      "outputs": [
        {
          "output_type": "stream",
          "name": "stdout",
          "text": [
            "Enter your exam score: 78\n",
            "Your grade is: C\n"
          ]
        }
      ]
    },
    {
      "cell_type": "markdown",
      "source": [
        "3.Create a program that asks the user for a list of grocery items they\n",
        "need to buy and organizes the list alphabetically."
      ],
      "metadata": {
        "id": "Ttvgnx2yk1ii"
      }
    },
    {
      "cell_type": "code",
      "source": [
        "items = input(\"Enter the grocery items separated by commas: \")\n",
        "items_list = [item.strip() for item in items.split(',')]\n",
        "items_list.sort()\n",
        "print(\"Sorted grocery list:\")\n",
        "for item in items_list:\n",
        "    print(item)"
      ],
      "metadata": {
        "colab": {
          "base_uri": "https://localhost:8080/"
        },
        "id": "KmVXct4Pk1wa",
        "outputId": "f0d6d0f4-c247-4612-c7f8-9f619802ee48"
      },
      "execution_count": null,
      "outputs": [
        {
          "output_type": "stream",
          "name": "stdout",
          "text": [
            "Enter the grocery items separated by commas: rice,wheat,maida,sugar,salt\n",
            "Sorted grocery list:\n",
            "maida\n",
            "rice\n",
            "salt\n",
            "sugar\n",
            "wheat\n"
          ]
        }
      ]
    },
    {
      "cell_type": "markdown",
      "source": [
        "4.Write a program that asks the user for an email address and\n",
        "checks if it is valid (contains an \"@\" symbol and a valid domain)."
      ],
      "metadata": {
        "id": "B0S40xoDlM8Y"
      }
    },
    {
      "cell_type": "code",
      "source": [
        "import re\n",
        "\n",
        "def is_valid_email(email):\n",
        "    pattern = r'^[^@]+@[^@]+\\.[^@]+$'\n",
        "    return re.match(pattern, email) is not None\n",
        "email = input(\"Enter an email address: \")\n",
        "if is_valid_email(email):\n",
        "    print(\"The email address is valid.\")\n",
        "else:\n",
        "    print(\"The email address is not valid.\")"
      ],
      "metadata": {
        "colab": {
          "base_uri": "https://localhost:8080/"
        },
        "id": "7raYS3DOlNHo",
        "outputId": "fd7c794c-1b78-463e-d8b7-db3f59b51358"
      },
      "execution_count": null,
      "outputs": [
        {
          "output_type": "stream",
          "name": "stdout",
          "text": [
            "Enter an email address: lidapmariyam@gmail.com\n",
            "The email address is valid.\n"
          ]
        }
      ]
    },
    {
      "cell_type": "markdown",
      "source": [
        "5.Create a program that asks the user for the number of days they\n",
        "have delayed returning a library book. If the delay is less than or\n",
        "equal to 7 days, there is no fine. If the delay is between 8 and 30\n",
        "days, apply a fine of 2 rupees per day. If the delay is more than\n",
        "30 days, apply a fine of 5 rupees per day. Print the total fine\n",
        "amount."
      ],
      "metadata": {
        "id": "DLFutmdZleXZ"
      }
    },
    {
      "cell_type": "code",
      "source": [
        "def calculate_fine(days_delayed):\n",
        "    if days_delayed <= 7:\n",
        "        return 0\n",
        "    elif 8 <= days_delayed <= 30:\n",
        "        return (days_delayed - 7) * 2\n",
        "    else:\n",
        "        return (30 - 7) * 2 + (days_delayed - 30) * 5\n",
        "days_delayed = int(input(\"Enter the number of days you have delayed returning the book: \"))\n",
        "fine = calculate_fine(days_delayed)\n",
        "print(f\"The total fine amount is: {fine} rupees\")"
      ],
      "metadata": {
        "colab": {
          "base_uri": "https://localhost:8080/"
        },
        "id": "r3NVDRtplel5",
        "outputId": "b330b687-5518-413b-8407-5998044920c0"
      },
      "execution_count": null,
      "outputs": [
        {
          "output_type": "stream",
          "name": "stdout",
          "text": [
            "Enter the number of days you have delayed returning the book: 10\n",
            "The total fine amount is: 6 rupees\n"
          ]
        }
      ]
    },
    {
      "cell_type": "markdown",
      "source": [
        "6.Write a program that checks if a given character is a vowel. Use\n",
        "the in operator to check if the character is present in a string of\n",
        "vowels (\"aeiou\")."
      ],
      "metadata": {
        "id": "n1_2f19blvAA"
      }
    },
    {
      "cell_type": "code",
      "source": [
        "def is_vowel(character):\n",
        "    vowels = \"aeiou\"\n",
        "    return character.lower() in vowels\n",
        "char = input(\"Enter a character: \")\n",
        "if len(char) != 1:\n",
        "    print(\"Please enter exactly one character.\")\n",
        "else:\n",
        "    if is_vowel(char):\n",
        "        print(\"The character '{char}' is a vowel.\")\n",
        "    else:\n",
        "        print(\"The character '{char}' is not a vowel.\")"
      ],
      "metadata": {
        "colab": {
          "base_uri": "https://localhost:8080/"
        },
        "id": "p2t211JGlvOQ",
        "outputId": "9bb4b694-37b9-4df7-ab96-a122dfbe748f"
      },
      "execution_count": null,
      "outputs": [
        {
          "output_type": "stream",
          "name": "stdout",
          "text": [
            "Enter a character: i\n",
            "The character '{char}' is a vowel.\n"
          ]
        }
      ]
    },
    {
      "cell_type": "markdown",
      "source": [
        "7.Implement a program that calculates the factorial of a number\n",
        "using a loop."
      ],
      "metadata": {
        "id": "JHzdG2jZl8L6"
      }
    },
    {
      "cell_type": "code",
      "source": [
        "def calculate_factorial(n):\n",
        "    factorial = 1\n",
        "    for i in range(1, n + 1):\n",
        "        factorial *= i\n",
        "\n",
        "number = int(input(\"Enter a positive integer: \"))\n",
        "if number < 0:\n",
        "    print(\"Factorial is not defined for negative numbers.\")\n",
        "else:\n",
        "    result = calculate_factorial(number)\n",
        "    print(f\"The factorial of {number} is {result}.\")"
      ],
      "metadata": {
        "colab": {
          "base_uri": "https://localhost:8080/"
        },
        "id": "NL49p6XCl8Xg",
        "outputId": "7498ca51-abcb-4a1b-e4e4-0e660698c931"
      },
      "execution_count": null,
      "outputs": [
        {
          "output_type": "stream",
          "name": "stdout",
          "text": [
            "Enter a positive integer: 8\n",
            "The factorial of 8 is None.\n"
          ]
        }
      ]
    },
    {
      "cell_type": "markdown",
      "source": [
        "8.Generate the Fibonacci sequence (0, 1, 1, 2, 3, ...) up to a certain\n",
        "limit using a loop."
      ],
      "metadata": {
        "id": "CpVoQDoVmMdv"
      }
    },
    {
      "cell_type": "code",
      "source": [
        "def generate_fibonacci(limit):\n",
        "    a, b = 0, 1\n",
        "    fibonacci_sequence = []\n",
        "    while a <= limit:\n",
        "        fibonacci_sequence.append(a)\n",
        "        a, b = b, a + b\n",
        "    return fibonacci_sequence\n",
        "limit = int(input(\"Enter the upper limit for the Fibonacci sequence: \"))\n",
        "fibonacci_numbers = generate_fibonacci(limit)\n",
        "print(\"Fibonacci sequence up to the limit:\")\n",
        "print(fibonacci_numbers)"
      ],
      "metadata": {
        "colab": {
          "base_uri": "https://localhost:8080/"
        },
        "id": "ePWElojNmMp2",
        "outputId": "e7809c23-f80f-45e9-cd9a-62876d56d5a1"
      },
      "execution_count": null,
      "outputs": [
        {
          "output_type": "stream",
          "name": "stdout",
          "text": [
            "Enter the upper limit for the Fibonacci sequence: 335\n",
            "Fibonacci sequence up to the limit:\n",
            "[0, 1, 1, 2, 3, 5, 8, 13, 21, 34, 55, 89, 144, 233]\n"
          ]
        }
      ]
    },
    {
      "cell_type": "markdown",
      "source": [
        "9.Create a number guessing game where the computer generates a\n",
        "random number and the user has to guess it within a certain\n",
        "number of attempts using a loop"
      ],
      "metadata": {
        "id": "0lw0V0mTmZqZ"
      }
    },
    {
      "cell_type": "code",
      "source": [
        "import random\n",
        "\n",
        "number_to_guess = random.randint(1, 100)\n",
        "attempts_left = 10\n",
        "\n",
        "print(\"I'm thinking of a number between 1 and 100. You have 10 attempts to guess it.\")\n",
        "\n",
        "while attempts_left > 0:\n",
        "  try:\n",
        "    guess = int(input(\"Enter your guess: \"))\n",
        "  except ValueError:\n",
        "    print(\"Invalid input. Please enter a number.\")\n",
        "    continue\n",
        "\n",
        "  attempts_left -= 1\n",
        "\n",
        "  if guess < number_to_guess:\n",
        "    print(\"Too low! You have\", attempts_left, \"attempts left.\")\n",
        "  elif guess > number_to_guess:\n",
        "    print(\"Too high! You have\", attempts_left, \"attempts left.\")\n",
        "  else:\n",
        "    print(\"Congratulations! You guessed the number in\", 10 - attempts_left, \"attempts.\")\n",
        "    break\n",
        "\n",
        "if attempts_left == 0:\n",
        "  print(\"You ran out of attempts. The number was\", number_to_guess)"
      ],
      "metadata": {
        "colab": {
          "base_uri": "https://localhost:8080/"
        },
        "id": "1uQgFKP9_wZV",
        "outputId": "367a1a4a-9faf-44db-8905-7a16f0da9a5d"
      },
      "execution_count": null,
      "outputs": [
        {
          "output_type": "stream",
          "name": "stdout",
          "text": [
            "I'm thinking of a number between 1 and 100. You have 10 attempts to guess it.\n",
            "Enter your guess: 50\n",
            "Too low! You have 9 attempts left.\n",
            "Enter your guess: 40\n",
            "Too low! You have 8 attempts left.\n",
            "Enter your guess: 45\n",
            "Too low! You have 7 attempts left.\n",
            "Enter your guess: 11\n",
            "Too low! You have 6 attempts left.\n",
            "Enter your guess: 86\n",
            "Too high! You have 5 attempts left.\n",
            "Enter your guess: 65\n",
            "Too low! You have 4 attempts left.\n",
            "Enter your guess: 38\n",
            "Too low! You have 3 attempts left.\n",
            "Enter your guess: 30\n",
            "Too low! You have 2 attempts left.\n",
            "Enter your guess: 20\n",
            "Too low! You have 1 attempts left.\n",
            "Enter your guess: 55\n",
            "Too low! You have 0 attempts left.\n",
            "You ran out of attempts. The number was 69\n"
          ]
        }
      ]
    },
    {
      "cell_type": "markdown",
      "source": [
        "10.Write a menu driven calculator with following menu:\n",
        "a. Addition\n",
        "b. Subtraction\n",
        "c. Division\n",
        "d. Multiplication\n",
        "e. Exit"
      ],
      "metadata": {
        "id": "3oNjKH9NmpdR"
      }
    },
    {
      "cell_type": "code",
      "source": [
        "def add(x, y):\n",
        "  return x + y\n",
        "\n",
        "def subtract(x, y):\n",
        "  return x - y\n",
        "\n",
        "def multiply(x, y):\n",
        "  return x * y\n",
        "\n",
        "def divide(x, y):\n",
        "  if y == 0:\n",
        "    return \"Division by zero!\"\n",
        "  else:\n",
        "    return x / y\n",
        "\n",
        "while True:\n",
        "  print(\"\\nMenu:\")\n",
        "  print(\"a. Addition\")\n",
        "  print(\"b. Subtraction\")\n",
        "  print(\"c. Division\")\n",
        "  print(\"d. Multiplication\")\n",
        "  print(\"e. Exit\")\n",
        "\n",
        "  choice = input(\"Enter your choice (a-e): \")\n",
        "\n",
        "  if choice in ('a', 'b', 'c', 'd'):\n",
        "    try:\n",
        "      num1 = float(input(\"Enter first number: \"))\n",
        "      num2 = float(input(\"Enter second number: \"))\n",
        "    except ValueError:\n",
        "      print(\"Invalid input. Please enter numbers.\")\n",
        "      continue\n",
        "\n",
        "    if choice == 'a':\n",
        "      print(num1, \"+\", num2, \"=\", add(num1, num2))\n",
        "    elif choice == 'b':\n",
        "      print(num1, \"-\", num2, \"=\", subtract(num1, num2))\n",
        "    elif choice == 'c':\n",
        "      print(num1, \"/\", num2, \"=\", divide(num1, num2))\n",
        "    elif choice == 'd':\n",
        "      print(num1, \"*\", num2, \"=\", multiply(num1, num2))\n",
        "  elif choice == 'e':\n",
        "    break\n",
        "  else:\n",
        "    print(\"Invalid input. Please enter a choice between a and e.\")"
      ],
      "metadata": {
        "colab": {
          "base_uri": "https://localhost:8080/"
        },
        "id": "Q3vybQ6QAOxo",
        "outputId": "beed8cb4-a0c7-4290-a011-f04b3b109639"
      },
      "execution_count": null,
      "outputs": [
        {
          "name": "stdout",
          "output_type": "stream",
          "text": [
            "\n",
            "Menu:\n",
            "a. Addition\n",
            "b. Subtraction\n",
            "c. Division\n",
            "d. Multiplication\n",
            "e. Exit\n",
            "Enter your choice (a-e): a\n",
            "Enter first number: 4\n",
            "Enter second number: 2\n",
            "4.0 + 2.0 = 6.0\n",
            "\n",
            "Menu:\n",
            "a. Addition\n",
            "b. Subtraction\n",
            "c. Division\n",
            "d. Multiplication\n",
            "e. Exit\n",
            "Enter your choice (a-e): b\n",
            "Enter first number: 3\n",
            "Enter second number: 2\n",
            "3.0 - 2.0 = 1.0\n",
            "\n",
            "Menu:\n",
            "a. Addition\n",
            "b. Subtraction\n",
            "c. Division\n",
            "d. Multiplication\n",
            "e. Exit\n",
            "Enter your choice (a-e): c\n",
            "Enter first number: 6\n",
            "Enter second number: 2\n",
            "6.0 / 2.0 = 3.0\n",
            "\n",
            "Menu:\n",
            "a. Addition\n",
            "b. Subtraction\n",
            "c. Division\n",
            "d. Multiplication\n",
            "e. Exit\n",
            "Enter your choice (a-e): d\n",
            "Enter first number: 6\n",
            "Enter second number: 10\n",
            "6.0 * 10.0 = 60.0\n",
            "\n",
            "Menu:\n",
            "a. Addition\n",
            "b. Subtraction\n",
            "c. Division\n",
            "d. Multiplication\n",
            "e. Exit\n",
            "Enter your choice (a-e): e\n"
          ]
        }
      ]
    }
  ]
}