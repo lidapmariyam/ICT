{
  "nbformat": 4,
  "nbformat_minor": 0,
  "metadata": {
    "colab": {
      "provenance": [],
      "authorship_tag": "ABX9TyODu1bDe4v6dkShUWxy2LLQ",
      "include_colab_link": true
    },
    "kernelspec": {
      "name": "python3",
      "display_name": "Python 3"
    },
    "language_info": {
      "name": "python"
    }
  },
  "cells": [
    {
      "cell_type": "markdown",
      "metadata": {
        "id": "view-in-github",
        "colab_type": "text"
      },
      "source": [
        "<a href=\"https://colab.research.google.com/github/lidapmariyam/ICT/blob/main/PYTHON_BASIC_2.ipynb\" target=\"_parent\"><img src=\"https://colab.research.google.com/assets/colab-badge.svg\" alt=\"Open In Colab\"/></a>"
      ]
    },
    {
      "cell_type": "markdown",
      "source": [
        "\n",
        "1.Write a Python program to accept a string value from the user and display\n",
        "the count of each character in that string."
      ],
      "metadata": {
        "id": "xyTOrhLpob7v"
      }
    },
    {
      "cell_type": "code",
      "source": [
        "from collections import Counter\n",
        "\n",
        "def count_characters(s):\n",
        "\n",
        "    counter = Counter(s)\n",
        "    result = [f\"{char}={count}\" for char, count in counter.items()]\n",
        "    return ', '.join(result)\n",
        "user_input = input(\"Enter a string value: \")\n",
        "print(count_characters(user_input))"
      ],
      "metadata": {
        "id": "e7RY-xREocRY",
        "colab": {
          "base_uri": "https://localhost:8080/"
        },
        "outputId": "0f6448ec-1ed2-4933-f3a3-2adc1f1a3f49"
      },
      "execution_count": null,
      "outputs": [
        {
          "output_type": "stream",
          "name": "stdout",
          "text": [
            "Enter a string value: Home\n",
            "H=1, o=1, m=1, e=1\n"
          ]
        }
      ]
    },
    {
      "cell_type": "markdown",
      "source": [
        "2. Write a Python function to find the maximum of three numbers ."
      ],
      "metadata": {
        "id": "hoHcSRD02Pif"
      }
    },
    {
      "cell_type": "code",
      "source": [
        "def find_max_of_three(num1, num2, num3):\n",
        "   return max(num1, num2, num3)\n",
        "num1 = 30\n",
        "num2 = 12\n",
        "num3 = 10\n",
        "print(\"The maximum number is:\", find_max_of_three(num1, num2, num3))"
      ],
      "metadata": {
        "colab": {
          "base_uri": "https://localhost:8080/"
        },
        "id": "Utw6sUVQ2PuY",
        "outputId": "920b5b30-c439-4955-f490-3e64e9e7f102"
      },
      "execution_count": null,
      "outputs": [
        {
          "output_type": "stream",
          "name": "stdout",
          "text": [
            "The maximum number is: 30\n"
          ]
        }
      ]
    },
    {
      "cell_type": "markdown",
      "source": [
        "3. Write a Python function called exponent(base,exp) that returns an\n",
        "integer value of base raises to the power of exp"
      ],
      "metadata": {
        "id": "ZnGW7Frs2c3m"
      }
    },
    {
      "cell_type": "code",
      "source": [
        "def exponent(base, exp):\n",
        "    return base ** exp\n",
        "base = int(input(\"Enter the base: \"))\n",
        "exp = int(input(\"Enter the exponent: \"))\n",
        "result = exponent(base, exp)\n",
        "print(\"The result is:\", result)"
      ],
      "metadata": {
        "colab": {
          "base_uri": "https://localhost:8080/"
        },
        "id": "YPAzfXBJ2dE-",
        "outputId": "465041b0-0c04-4f16-8454-819612a0b0e1"
      },
      "execution_count": null,
      "outputs": [
        {
          "output_type": "stream",
          "name": "stdout",
          "text": [
            "Enter the base: 3\n",
            "Enter the exponent: 4\n",
            "The result is: 81\n"
          ]
        }
      ]
    },
    {
      "cell_type": "markdown",
      "source": [
        "4.Write a Python function that takes a positive integer and returns the sum\n",
        "of the cube of all the positive integers smaller than the specified number."
      ],
      "metadata": {
        "id": "5FhnIfL-2mc_"
      }
    },
    {
      "cell_type": "code",
      "source": [
        "def sum_of_cubes(n):\n",
        "    total_sum=0\n",
        "    for i in range(1, n):\n",
        "        total_sum += i ** 3\n",
        "    return total_sum\n",
        "number = int(input(\"Enter a positive integer: \"))\n",
        "if number <= 0:\n",
        "    print(\"Please enter a positive integer.\")\n",
        "else:\n",
        "    result = sum_of_cubes(number)\n",
        "    print(\"The sum of the cubes of all positive integers smaller than\", number, \"is:\", result)"
      ],
      "metadata": {
        "colab": {
          "base_uri": "https://localhost:8080/"
        },
        "id": "UqAiCcyM2mrG",
        "outputId": "0ee3b8c8-5eee-45a5-de5b-8d9308e4cf2d"
      },
      "execution_count": null,
      "outputs": [
        {
          "output_type": "stream",
          "name": "stdout",
          "text": [
            "Enter a positive integer: 6\n",
            "The sum of the cubes of all positive integers smaller than 6 is: 225\n"
          ]
        }
      ]
    },
    {
      "cell_type": "markdown",
      "source": [
        "\n",
        "5.Write a Python program which iterates from 1 to 10. For multiples of 2,\n",
        "print “Fizz” instead of the number and for the multiples of 5, print “Buzz”.\n",
        "For numbers which are multiples of both 2 and 5, print “FizzBuzz”."
      ],
      "metadata": {
        "id": "X3YtbjGp2xIv"
      }
    },
    {
      "cell_type": "code",
      "source": [
        "def fizz_buzz():\n",
        "    for i in range(1, 11):\n",
        "        if i % 2 == 0 and i % 5 == 0:\n",
        "            print(\"FizzBuzz\")\n",
        "        elif i % 2 == 0:\n",
        "            print(\"Fizz\")\n",
        "        elif i % 5 == 0:\n",
        "            print(\"Buzz\")\n",
        "        else:\n",
        "            print(i)\n",
        "fizz_buzz()"
      ],
      "metadata": {
        "colab": {
          "base_uri": "https://localhost:8080/"
        },
        "id": "UQd_ihhc2xae",
        "outputId": "5045dbcc-bd84-4616-90b4-28d9b2f05747"
      },
      "execution_count": null,
      "outputs": [
        {
          "output_type": "stream",
          "name": "stdout",
          "text": [
            "1\n",
            "Fizz\n",
            "3\n",
            "Fizz\n",
            "Buzz\n",
            "Fizz\n",
            "7\n",
            "Fizz\n",
            "9\n",
            "FizzBuzz\n"
          ]
        }
      ]
    },
    {
      "cell_type": "markdown",
      "source": [
        "6.Write a Python program to find the most frequent item in a list of\n",
        "numbers"
      ],
      "metadata": {
        "id": "G_2RAfIj3D9u"
      }
    },
    {
      "cell_type": "code",
      "source": [
        "from collections import Counter\n",
        "\n",
        "def most_frequent_item(numbers):\n",
        "   count = Counter(numbers)\n",
        "   most_common_item, _ = count.most_common(1)[0]\n",
        "   return most_common_item\n",
        "numbers = [2, 4, 4, 2, 5, 4]\n",
        "result = most_frequent_item(numbers)\n",
        "print(\"The most frequent item is:\", result)"
      ],
      "metadata": {
        "colab": {
          "base_uri": "https://localhost:8080/"
        },
        "id": "AR1iCOB53ETW",
        "outputId": "8bb9f4b1-d04c-4b3e-e3a5-3c07e5c819c7"
      },
      "execution_count": null,
      "outputs": [
        {
          "output_type": "stream",
          "name": "stdout",
          "text": [
            "The most frequent item is: 4\n"
          ]
        }
      ]
    },
    {
      "cell_type": "markdown",
      "source": [
        "7.Write a Python program to find the sum of squares of the numbers in a\n",
        "list"
      ],
      "metadata": {
        "id": "FyTN-NgC3KuG"
      }
    },
    {
      "cell_type": "code",
      "source": [
        "def sum_of_squares(numbers):\n",
        "    return sum(x ** 2 for x in numbers)\n",
        "numbers = [2, 1, 3, 1]\n",
        "result = sum_of_squares(numbers)\n",
        "print(\"The sum of squares is:\", result)"
      ],
      "metadata": {
        "colab": {
          "base_uri": "https://localhost:8080/"
        },
        "id": "88YvOfcz3K4A",
        "outputId": "10433e55-7769-4a20-fa79-1b25be6e7de7"
      },
      "execution_count": null,
      "outputs": [
        {
          "output_type": "stream",
          "name": "stdout",
          "text": [
            "The sum of squares is: 15\n"
          ]
        }
      ]
    },
    {
      "cell_type": "markdown",
      "source": [
        "8.Write a Python program using for loop that will iterate from 1 to 15. For\n",
        "each iteration, check if the current number is odd or even, and display the\n",
        "message to the screen as odd or even."
      ],
      "metadata": {
        "id": "mprWMunW3SAf"
      }
    },
    {
      "cell_type": "code",
      "source": [
        "for num in range(1, 16):\n",
        "    if num % 2 == 0:\n",
        "        print(f\"{num}-even\")\n",
        "    else:\n",
        "        print(f\"{num}-odd\")"
      ],
      "metadata": {
        "colab": {
          "base_uri": "https://localhost:8080/"
        },
        "id": "mSuR9hCw3ST3",
        "outputId": "5a3fc6b7-e866-489b-daf5-8ac481b1b2bc"
      },
      "execution_count": null,
      "outputs": [
        {
          "output_type": "stream",
          "name": "stdout",
          "text": [
            "1-odd\n",
            "2-even\n",
            "3-odd\n",
            "4-even\n",
            "5-odd\n",
            "6-even\n",
            "7-odd\n",
            "8-even\n",
            "9-odd\n",
            "10-even\n",
            "11-odd\n",
            "12-even\n",
            "13-odd\n",
            "14-even\n",
            "15-odd\n"
          ]
        }
      ]
    },
    {
      "cell_type": "markdown",
      "source": [
        "9.Write a Python program to convert temperatures to and from Celsius\n",
        "Fahrenheit. [Formula: c/5=f-32/9 where c=temperature in Celsius and f=\n",
        "temperature in Fahrenheit.]"
      ],
      "metadata": {
        "id": "ZR1F-ODt3Z0w"
      }
    },
    {
      "cell_type": "code",
      "source": [
        "def fahrenheit_to_celsius(fahrenheit):\n",
        "    return (fahrenheit - 32) * 5 / 9\n",
        "def celsius_to_fahrenheit(celsius):\n",
        "    return (celsius * 9 / 5) + 3\n",
        "fahrenheit = float(input(\"Temperature in Fahrenheit: \"))\n",
        "celsius = fahrenheit_to_celsius(fahrenheit)\n",
        "print(f\"Temperature in Celsius = {celsius:.2f}\")"
      ],
      "metadata": {
        "colab": {
          "base_uri": "https://localhost:8080/"
        },
        "id": "3WFVLgei3Z_3",
        "outputId": "27bff492-9503-4fae-9127-2cac5ba5bd80"
      },
      "execution_count": null,
      "outputs": [
        {
          "output_type": "stream",
          "name": "stdout",
          "text": [
            "Temperature in Fahrenheit: 50\n",
            "Temperature in Celsius = 10.00\n"
          ]
        }
      ]
    },
    {
      "cell_type": "markdown",
      "source": [
        "10.Write a Python function to calculate the factorial of a number (a\n",
        "nonnegative integer). The function accepts the number as an argument."
      ],
      "metadata": {
        "id": "noTXFmEj3lHG"
      }
    },
    {
      "cell_type": "code",
      "source": [
        "def factorial(n):\n",
        "    result = 1\n",
        "    for i in range(1, n + 1):\n",
        "        result *= i\n",
        "    return result\n",
        "number = int(input(\"Enter a nonnegative integer: \"))\n",
        "if number < 0:\n",
        "    print(\"Factorial is not defined for negative numbers.\")\n",
        "else:\n",
        "    result = factorial(number)\n",
        "    print(\"The factorial of\", number, \"is:\", result)"
      ],
      "metadata": {
        "colab": {
          "base_uri": "https://localhost:8080/"
        },
        "id": "AYUudevp3lRy",
        "outputId": "a73fd978-f08a-4cea-b02f-0573fecbe06e"
      },
      "execution_count": null,
      "outputs": [
        {
          "output_type": "stream",
          "name": "stdout",
          "text": [
            "Enter a nonnegative integer: 20\n",
            "The factorial of 20 is: 2432902008176640000\n"
          ]
        }
      ]
    }
  ]
}